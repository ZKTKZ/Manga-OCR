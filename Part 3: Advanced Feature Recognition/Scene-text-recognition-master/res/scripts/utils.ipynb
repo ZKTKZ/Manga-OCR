{
 "cells": [
  {
   "cell_type": "markdown",
   "metadata": {},
   "source": [
    "### Calculate transition probability  ###"
   ]
  },
  {
   "cell_type": "code",
   "execution_count": null,
   "metadata": {
    "collapsed": false
   },
   "outputs": [],
   "source": [
    "import numpy as np\n",
    "\n",
    "def index_mapping(in_char):\n",
    "    in_ascii = ord(in_char)\n",
    "\n",
    "    if in_ascii >= ord('0') and in_ascii <= ord('9'):\n",
    "        return in_ascii-ord('0')\n",
    "    elif in_ascii >= ord('A') and in_ascii <= ord('Z'):\n",
    "        return in_ascii-ord('A') + 10\n",
    "    elif in_ascii >= ord('a') and in_ascii <= ord('z'):\n",
    "        return in_ascii-ord('a') + 10 + 26\n",
    "    elif in_ascii == ord('&'):\n",
    "        return 62\n",
    "    elif in_ascii == ord('('):\n",
    "        return 63\n",
    "    elif in_ascii == ord(')'):\n",
    "        return 64\n",
    "    else:\n",
    "        return -1\n",
    "\n",
    "\n",
    "def calc_tp_table(filename):\n",
    "    print ('counting the words in ' + filename)\n",
    "    fin = open(filename, 'r')\n",
    "    for line in fin.readlines():\n",
    "        c_list = list(line)\n",
    "        for i in range(0, len(c_list)-2):\n",
    "            c_idx = index_mapping(c_list[i])\n",
    "            c_transition_idx = index_mapping(c_list[i+1])\n",
    "            if c_idx != -1 and c_transition_idx != -1:\n",
    "                tp_table[c_idx][c_transition_idx] += 1\n",
    "\n",
    "\n",
    "def save_tp_table(filename):\n",
    "    fout = open(filename, 'w')\n",
    "    # Normalize the table, the sum of each row should be 1.0\n",
    "    for row in tp_table:\n",
    "        sum = 0\n",
    "        for entry in row:\n",
    "            sum += entry\n",
    "\n",
    "        if sum > 0:\n",
    "            row /= sum\n",
    "    \n",
    "    # rearrange the table\n",
    "    for i in range(10):\n",
    "        for j in range(10):\n",
    "            tp_table[i][j] = 1.0/10\n",
    "        for j in range(10, CHAR_NUM):\n",
    "            tp_table[i][j] = 1.0/26\n",
    "\n",
    "    for i in range(10, 36):\n",
    "        for j in range(10):\n",
    "            tp_table[i][j] = 1.0 / 26\n",
    "        for j in range(10, 36):\n",
    "            tp_table[i][j] = tp_table[i+26][j+26]\n",
    "        for j in range(36, 62):\n",
    "            tp_table[i][j] = tp_table[i+26][j]\n",
    "        for j in range(62, CHAR_NUM):\n",
    "            tp_table[i][j] = 1.0 / 26\n",
    "    \n",
    "    for i in range(36, 62):\n",
    "        for j in range(10):\n",
    "            tp_table[i][j] = 1.0 / 26\n",
    "        for j in range(10, 36):\n",
    "            tp_table[i][j] = tp_table[i][j+26]\n",
    "        for j in range(62, CHAR_NUM):\n",
    "            tp_table[i][j] = 1.0 / 26\n",
    "\n",
    "    for i in range(62, CHAR_NUM):\n",
    "        tp_table[i] = np.full((1, CHAR_NUM), 1.0/26)\n",
    "        \n",
    "    for row in tp_table:\n",
    "        for entry in row:\n",
    "            fout.write(str(entry)+' ')\n",
    "        fout.write('\\n')\n",
    "\n",
    "\n",
    "\n",
    "\n",
    "CHAR_NUM = 65\n",
    "tp_table = np.zeros((CHAR_NUM, CHAR_NUM))\n",
    "\n",
<<<<<<< HEAD
    "filename = {'dictionary1.txt', 'dictionary2.txt', 'dictionary3.txt'}\n",
    "\n",
    "for f in filename:\n",
    "    calc_tp_table(f)\n",
    "\n",
=======
    "calc_tp_table('dictionary/dictionary1.txt')\n",
    "calc_tp_table('dictionary/dictionary2.txt')\n",
    "calc_tp_table('dictionary/dictionary3.txt')\n",
    "calc_tp_table('dictionary/self_define_word.txt')\n",
>>>>>>> 379573d12242c4dd41c5e0061ffb0896933f923d
    "save_tp_table('tp_table.txt')\n",
    "\n",
    "print (tp_table)"
   ]
  },
  {
   "cell_type": "markdown",
<<<<<<< HEAD
   "metadata": {},
=======
   "metadata": {
    "deletable": true,
    "editable": true
   },
>>>>>>> 379573d12242c4dd41c5e0061ffb0896933f923d
   "source": [
    "### Rename files"
   ]
  },
  {
   "cell_type": "code",
   "execution_count": null,
<<<<<<< HEAD
   "metadata": {},
=======
   "metadata": {
    "collapsed": false,
    "deletable": true,
    "editable": true
   },
>>>>>>> 379573d12242c4dd41c5e0061ffb0896933f923d
   "outputs": [],
   "source": [
    "import os, sys\n",
    "import random\n",
    "import string\n",
    "\n",
    "def rename_folder_file(folder):\n",
    "    s = string.ascii_lowercase+string.digits\n",
    "    random_string = ''.join(random.sample(s,5))\n",
    "    \n",
    "    i = 1\n",
    "    for file in os.listdir(folder):\n",
    "        os.rename(folder+file, folder+random_string+\"_%d.jpg\" % i)\n",
    "        i+=1\n",
    "    print (\"move as temporary files\")\n",
    "    \n",
    "    i = 1\n",
    "    for file in os.listdir(folder):\n",
    "        os.rename(folder+file, folder+\"%d.jpg\" % i)\n",
    "        i+=1\n",
    "    print (\"move as refined files\")\n",
    "\n",
    "        \n",
    "rename_folder_file(\"res/pos/pos2/\")"
   ]
  },
  {
   "cell_type": "markdown",
<<<<<<< HEAD
   "metadata": {},
=======
   "metadata": {
    "deletable": true,
    "editable": true
   },
>>>>>>> 379573d12242c4dd41c5e0061ffb0896933f923d
   "source": [
    "### Draw Linear Time MSER"
   ]
  },
  {
   "cell_type": "code",
   "execution_count": null,
<<<<<<< HEAD
   "metadata": {},
=======
   "metadata": {
    "collapsed": false,
    "deletable": true,
    "editable": true
   },
>>>>>>> 379573d12242c4dd41c5e0061ffb0896933f923d
   "outputs": [],
   "source": [
    "%matplotlib inline\n",
    "from matplotlib import pyplot as plt\n",
    "import numpy as np\n",
    "\n",
    "with open(\"time.txt\", \"r\") as f:\n",
    "    row_list = [row[:-1].split(\" \") for row in f]\n",
    "    plist = [i[0] for i in row_list]\n",
    "    tlist = [i[1] for i in row_list]\n",
    "pixel_count = np.array(plist)\n",
    "time_spent = np.array(tlist)\n",
    "plt.plot(pixel_count, time_spent)\n",
    "plt.xlabel(\"Number of pixels\", color='b')\n",
    "plt.ylabel(\"Miliseconds\", color='b')\n",
    "plt.title(\"Execution time w.r.t. number of pixels\")\n",
    "plt.ticklabel_format(axis='x',style='sci')"
   ]
  },
  {
   "cell_type": "markdown",
<<<<<<< HEAD
   "metadata": {},
=======
   "metadata": {
    "deletable": true,
    "editable": true
   },
>>>>>>> 379573d12242c4dd41c5e0061ffb0896933f923d
   "source": [
    "### Draw Optimal Path"
   ]
  },
  {
   "cell_type": "code",
   "execution_count": null,
   "metadata": {
<<<<<<< HEAD
=======
    "collapsed": false,
    "deletable": true,
    "editable": true,
>>>>>>> 379573d12242c4dd41c5e0061ffb0896933f923d
    "scrolled": false
   },
   "outputs": [],
   "source": [
    "from graphviz import *\n",
    "\n",
    "def add_nodes(graph, nodes):\n",
    "    for n in nodes:\n",
    "        if isinstance(n, tuple):\n",
    "            graph.node(n[0], **n[1])\n",
    "        else:\n",
    "            graph.node(n)\n",
    "    return graph\n",
    "\n",
    "def add_edges(graph, edges):\n",
    "    for e in edges:\n",
    "        if isinstance(e[0], tuple):\n",
    "            graph.edge(*e[0], **e[1])\n",
    "        else:\n",
    "            graph.edge(*e)\n",
    "    return graph\n",
    "\n",
    "\n",
    "nodes = []\n",
    "with open(\"graph.txt\", \"r\") as file:\n",
    "    for row in file:\n",
    "        node = row.split(' ')[:-1]\n",
    "        nodes.append(node)\n",
    "\n",
    "\n",
    "dot = Digraph(comment='The Round Table')\n",
    "dot.graph_attr['rankdir'] = 'LR'\n",
    "\n",
    "i = 0\n",
    "for node in nodes:\n",
    "    string = node[2] + '\\n\\n\\n' + node[1]\n",
    "    img = \"D:\\%d.png\" % i\n",
    "    i += 1\n",
    "    dot.node(node[0], label=string, fontcolor='blue', image=img)\n",
    "\n",
    "for node in nodes:\n",
    "    edge = node[3:]\n",
    "    for i in range(0, len(edge), 2):\n",
    "        dot.edge(node[0], edge[i], label=edge[i+1])\n",
    "        \n",
    "dot\n",
    "dot.render('test-output/round-table.gv', view=True)"
   ]
  },
  {
   "cell_type": "markdown",
<<<<<<< HEAD
   "metadata": {},
=======
   "metadata": {
    "deletable": true,
    "editable": true
   },
>>>>>>> 379573d12242c4dd41c5e0061ffb0896933f923d
   "source": [
    "### Draw chain code"
   ]
  },
  {
   "cell_type": "code",
   "execution_count": null,
   "metadata": {
<<<<<<< HEAD
=======
    "collapsed": false,
    "deletable": true,
    "editable": true,
>>>>>>> 379573d12242c4dd41c5e0061ffb0896933f923d
    "scrolled": false
   },
   "outputs": [],
   "source": [
    "import os\n",
    "import sys\n",
    "import time\n",
    "import numpy as np\n",
    "import cv2\n",
    "from matplotlib import pyplot as plt\n",
    "from matplotlib import cm\n",
    "\n",
    "\n",
    "fig = plt.figure(facecolor='white')\n",
    "\n",
    "for i in range(0, 8):\n",
    "    img = cv2.imread(\"%d.bmp\" % i, 0)\n",
    "    loc = 240+i+1\n",
    "    ax = fig.add_subplot(loc)\n",
    "    ax.imshow(img, cmap=cm.coolwarm, interpolation = 'bicubic')\n",
    "    plt.xticks([]), plt.yticks([])\n",
    "    \n",
    "#cbar = fig.colorbar(fig, ticks=[-1, 0, 1])\n",
    "#plt.show()\n",
    "plt.savefig(\"chain_code_direction.png\")"
   ]
  }
 ],
 "metadata": {
  "kernelspec": {
   "display_name": "Python 3",
   "language": "python",
   "name": "python3"
  },
  "language_info": {
   "codemirror_mode": {
    "name": "ipython",
    "version": 3
   },
   "file_extension": ".py",
   "mimetype": "text/x-python",
   "name": "python",
   "nbconvert_exporter": "python",
   "pygments_lexer": "ipython3",
<<<<<<< HEAD
   "version": "3.5.3"
=======
   "version": "3.6.0"
>>>>>>> 379573d12242c4dd41c5e0061ffb0896933f923d
  }
 },
 "nbformat": 4,
 "nbformat_minor": 2
}
